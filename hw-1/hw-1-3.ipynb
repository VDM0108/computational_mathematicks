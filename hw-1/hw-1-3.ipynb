{
 "cells": [
  {
   "cell_type": "code",
   "execution_count": 3,
   "metadata": {},
   "outputs": [],
   "source": [
    "import numpy as np"
   ]
  },
  {
   "cell_type": "markdown",
   "metadata": {},
   "source": [
    "# Базовая задача МНК"
   ]
  },
  {
   "cell_type": "markdown",
   "metadata": {},
   "source": []
  },
  {
   "cell_type": "markdown",
   "metadata": {},
   "source": [
    "# Централизация признаков и МНК."
   ]
  },
  {
   "cell_type": "markdown",
   "metadata": {},
   "source": [
    "1. Когда мы центрируем признаки в X, среднее значение каждого признака становится нулевым. Аналогично, как мы работаем с отклонениями от среднего, что исключает необходимость учитывать свободный член в модели. (X^T X)^-1 для центрированных данных будет соответствовать только влиянию признаков без необходимости учитывать свободный член.\n",
    "\n",
    "2. Добавление столбца единиц в матрицу X эквивалентно добавлению свободного члена в модель, что позволяет модели учитывать свободный член. При вычислении (X^T X)^-1 для расширенной матрицы, последний столбец и строка представляют влияние свободного члена. Удаление этой строки и столбца возвращает к случаю, когда мы не учитываем свободный член —  ситуация становится аналогичной центрированным признакам."
   ]
  },
  {
   "cell_type": "code",
   "execution_count": 5,
   "metadata": {},
   "outputs": [
    {
     "data": {
      "text/plain": [
       "True"
      ]
     },
     "execution_count": 5,
     "metadata": {},
     "output_type": "execute_result"
    }
   ],
   "source": [
    "np.random.seed(42)\n",
    "X = np.random.randn(10, 5)\n",
    "\n",
    "X1 = X - X.mean(axis=0) \n",
    "X1_final = np.linalg.inv(X1.T @ X1) \n",
    "\n",
    "X2 = np.hstack([X, np.ones((X.shape[0], 1))]) \n",
    "X2_1 = np.linalg.inv(X2.T @ X2) \n",
    "X2_final = X2_1[:-1, :-1]\n",
    "\n",
    "are_equal = np.allclose(X1_final, X2_final)\n",
    "\n",
    "are_equal"
   ]
  },
  {
   "cell_type": "code",
   "execution_count": null,
   "metadata": {},
   "outputs": [],
   "source": []
  }
 ],
 "metadata": {
  "kernelspec": {
   "display_name": "Python 3",
   "language": "python",
   "name": "python3"
  },
  "language_info": {
   "codemirror_mode": {
    "name": "ipython",
    "version": 3
   },
   "file_extension": ".py",
   "mimetype": "text/x-python",
   "name": "python",
   "nbconvert_exporter": "python",
   "pygments_lexer": "ipython3",
   "version": "3.11.4"
  }
 },
 "nbformat": 4,
 "nbformat_minor": 2
}
